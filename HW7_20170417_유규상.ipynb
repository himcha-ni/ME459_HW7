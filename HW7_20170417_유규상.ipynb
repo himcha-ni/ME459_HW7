{
  "nbformat": 4,
  "nbformat_minor": 0,
  "metadata": {
    "colab": {
      "provenance": [],
      "gpuType": "T4",
      "include_colab_link": true
    },
    "kernelspec": {
      "name": "python3",
      "display_name": "Python 3"
    },
    "language_info": {
      "name": "python"
    },
    "accelerator": "GPU"
  },
  "cells": [
    {
      "cell_type": "markdown",
      "metadata": {
        "id": "view-in-github",
        "colab_type": "text"
      },
      "source": [
        "<a href=\"https://colab.research.google.com/github/himcha-ni/ME459_HW7/blob/main/HW7_20170417_%EC%9C%A0%EA%B7%9C%EC%83%81.ipynb\" target=\"_parent\"><img src=\"https://colab.research.google.com/assets/colab-badge.svg\" alt=\"Open In Colab\"/></a>"
      ]
    },
    {
      "cell_type": "code",
      "execution_count": null,
      "metadata": {
        "id": "Sekji27nF5Dp"
      },
      "outputs": [],
      "source": [
        "import torch\n",
        "import torchvision\n",
        "import torch.nn as nn\n",
        "import torch.optim as optim\n",
        "import torchvision.datasets as datasets\n",
        "import torchvision.transforms as transforms\n",
        "from torch.utils.data import DataLoader\n",
        "import matplotlib.pyplot as plt\n",
        "import numpy as np"
      ]
    },
    {
      "cell_type": "code",
      "source": [
        "torch.__version__"
      ],
      "metadata": {
        "colab": {
          "base_uri": "https://localhost:8080/",
          "height": 35
        },
        "id": "zQ7RbQCFPOMh",
        "outputId": "5cae4207-76fc-48ef-8ca7-cfc983072c64"
      },
      "execution_count": null,
      "outputs": [
        {
          "output_type": "execute_result",
          "data": {
            "text/plain": [
              "'2.0.1+cu118'"
            ],
            "application/vnd.google.colaboratory.intrinsic+json": {
              "type": "string"
            }
          },
          "metadata": {},
          "execution_count": 45
        }
      ]
    },
    {
      "cell_type": "code",
      "source": [
        "device = torch.device('cuda' if torch.cuda.is_available() else 'cpu')\n",
        "device"
      ],
      "metadata": {
        "colab": {
          "base_uri": "https://localhost:8080/"
        },
        "id": "Xw0I7_A6POTz",
        "outputId": "7e622d0f-985f-49df-d815-c72994670a5d"
      },
      "execution_count": null,
      "outputs": [
        {
          "output_type": "execute_result",
          "data": {
            "text/plain": [
              "device(type='cuda')"
            ]
          },
          "metadata": {},
          "execution_count": 46
        }
      ]
    },
    {
      "cell_type": "code",
      "source": [
        "class CNN(nn.Module):\n",
        "    def __init__(self):\n",
        "        super(CNN, self).__init__()\n",
        "        self.layer1 = nn.Sequential(\n",
        "          nn.Conv2d(1, 32, kernel_size=3, stride=1, padding=1),\n",
        "          nn.ReLU(),\n",
        "          nn.MaxPool2d(kernel_size=2, stride=2)\n",
        "        )\n",
        "\n",
        "        self.layer2 = nn.Sequential(\n",
        "          nn.Conv2d(32, 64, kernel_size=3, stride=1, padding=1),\n",
        "          nn.ReLU(),\n",
        "          nn.MaxPool2d(kernel_size=2, stride=2)\n",
        "        )\n",
        "\n",
        "        self.layer3 = nn.Sequential(\n",
        "          nn.Conv2d(64, 128, kernel_size=3, stride=1, padding=1),\n",
        "          nn.ReLU(),\n",
        "          nn.MaxPool2d(kernel_size=2, stride=2)\n",
        "        )\n",
        "\n",
        "        self.fc1 = nn.Linear(128 * 3 * 3, 256)\n",
        "        self.fc2 = nn.Linear(256, 10)\n",
        "        self.relu = nn.ReLU()\n",
        "\n",
        "    def forward(self, x):\n",
        "        x = self.layer1(x)\n",
        "        x = self.layer2(x)\n",
        "        x = self.layer3(x)\n",
        "        x = x.view(x.size(0), -1)  # Flatten the tensor\n",
        "        x = self.fc1(x)\n",
        "        x = self.relu(x)\n",
        "        x = self.fc2(x)\n",
        "        return x"
      ],
      "metadata": {
        "id": "Zm-E-2aiPOXU"
      },
      "execution_count": null,
      "outputs": []
    },
    {
      "cell_type": "code",
      "source": [
        "class MLP(nn.Module):\n",
        "    def __init__(self):\n",
        "        super(MLP, self).__init__()\n",
        "\n",
        "        self.fc1 = nn.Linear(784, 512)\n",
        "        self.fc2 = nn.Linear(512, 256)\n",
        "        self.fc3 = nn.Linear(256, 128)\n",
        "        self.fc4 = nn.Linear(128, 10)\n",
        "        self.dropout = nn.Dropout(0.5)\n",
        "        self.relu = nn.ReLU()\n",
        "\n",
        "    def forward(self, x):\n",
        "        x = x.view(x.size(0), -1)\n",
        "        x = self.fc1(x)\n",
        "        x = self.relu(x)\n",
        "        x = self.dropout(x)\n",
        "        x = self.fc2(x)\n",
        "        x = self.relu(x)\n",
        "        x = self.dropout(x)\n",
        "        x = self.fc3(x)\n",
        "        x = self.relu(x)\n",
        "        x = self.fc4(x)\n",
        "        return x"
      ],
      "metadata": {
        "id": "5khhzbm2POaM"
      },
      "execution_count": null,
      "outputs": []
    },
    {
      "cell_type": "code",
      "source": [
        "batch_size = 32\n",
        "\n",
        "train_dataset = datasets.MNIST(root='data/', train=True, transform=transforms.ToTensor(), download=True)\n",
        "train_loader = DataLoader(dataset=train_dataset, batch_size=batch_size, shuffle=True)\n",
        "\n",
        "test_dataset = datasets.MNIST(root='data/', train=False, transform=transforms.ToTensor(), download=True)\n",
        "test_loader = DataLoader(dataset=test_dataset, batch_size=batch_size, shuffle=False)"
      ],
      "metadata": {
        "id": "Q9Jd84LRPOfy"
      },
      "execution_count": null,
      "outputs": []
    },
    {
      "cell_type": "code",
      "source": [
        "def imshow(img):\n",
        "    npimg = img.numpy()\n",
        "    plt.axis('off')\n",
        "    plt.imshow(np.transpose(npimg, (1, 2, 0)))\n",
        "    plt.show()\n",
        "\n",
        "dataiter = iter(train_loader)\n",
        "images, labels = next(dataiter)\n",
        "\n",
        "imshow(torchvision.utils.make_grid(images))"
      ],
      "metadata": {
        "id": "_TIPZlyj0zMD",
        "colab": {
          "base_uri": "https://localhost:8080/",
          "height": 287
        },
        "outputId": "5a976757-597c-439b-d8de-03b83b610198"
      },
      "execution_count": null,
      "outputs": [
        {
          "output_type": "display_data",
          "data": {
            "text/plain": [
              "<Figure size 640x480 with 1 Axes>"
            ],
            "image/png": "[encoded data removed]"
          },
          "metadata": {}
        }
      ]
    },
    {
      "cell_type": "code",
      "source": [
        "cnn_model = CNN().to(device)\n",
        "cnn_criterion = nn.CrossEntropyLoss()\n",
        "cnn_optimizer = optim.Adam(cnn_model.parameters(), lr=0.0001)"
      ],
      "metadata": {
        "id": "kQtpWh-CPOll"
      },
      "execution_count": null,
      "outputs": []
    },
    {
      "cell_type": "code",
      "source": [
        "mlp_model = MLP().to(device)\n",
        "mlp_criterion = nn.CrossEntropyLoss()\n",
        "mlp_optimizer = optim.Adam(mlp_model.parameters(), lr=0.0001)"
      ],
      "metadata": {
        "id": "coPPP2BkPOou"
      },
      "execution_count": null,
      "outputs": []
    },
    {
      "cell_type": "code",
      "source": [
        "num_epochs = 50\n",
        "\n",
        "total_step = len(train_loader)\n",
        "for epoch in range(num_epochs):\n",
        "    for i, (images, labels) in enumerate(train_loader):\n",
        "        images = images.cuda()\n",
        "        labels = labels.cuda()\n",
        "\n",
        "        # Forward pass\n",
        "        outputs = mlp_model(images)\n",
        "        loss = mlp_criterion(outputs, labels)\n",
        "\n",
        "        # Backward and optimize\n",
        "        mlp_optimizer.zero_grad()\n",
        "        loss.backward()\n",
        "        mlp_optimizer.step()\n",
        "\n",
        "        if (i+1) % 1000 == 0:\n",
        "            print ('Epoch [{}/{}], Step [{}/{}], Loss: {:.4f}'\n",
        "                   .format(epoch+1, num_epochs, i+1, total_step, loss.item()))\n",
        "\n",
        "# Test the model\n",
        "mlp_model.eval()\n",
        "with torch.no_grad():\n",
        "    correct = 0\n",
        "    total = 0\n",
        "    for images, labels in test_loader:\n",
        "      images = images.cuda()\n",
        "      labels = labels.cuda()\n",
        "      outputs = mlp_model(images)\n",
        "      _, predicted = torch.max(outputs.data, 1)\n",
        "      total += labels.size(0)\n",
        "      correct += (predicted == labels).cpu().sum().item()\n",
        "\n",
        "    print('Test Accuracy : {} %'.format(100 * correct / total))\n",
        "\n",
        "# Save the model checkpoint\n",
        "torch.save(mlp_model.state_dict(), 'mlp_model.ckpt')"
      ],
      "metadata": {
        "colab": {
          "base_uri": "https://localhost:8080/"
        },
        "id": "AIet7wpJZ2Qb",
        "outputId": "b4cfafcf-a491-4851-c4cb-3d9d6a939cca"
      },
      "execution_count": null,
      "outputs": [
        {
          "output_type": "stream",
          "name": "stdout",
          "text": [
            "Epoch [1/50], Step [1000/1875], Loss: 0.3460\n",
            "Epoch [2/50], Step [1000/1875], Loss: 0.3518\n",
            "Epoch [3/50], Step [1000/1875], Loss: 0.1241\n",
            "Epoch [4/50], Step [1000/1875], Loss: 0.3174\n",
            "Epoch [5/50], Step [1000/1875], Loss: 0.2044\n",
            "Epoch [6/50], Step [1000/1875], Loss: 0.1784\n",
            "Epoch [7/50], Step [1000/1875], Loss: 0.0413\n",
            "Epoch [8/50], Step [1000/1875], Loss: 0.2219\n",
            "Epoch [9/50], Step [1000/1875], Loss: 0.0149\n",
            "Epoch [10/50], Step [1000/1875], Loss: 0.0094\n",
            "Epoch [11/50], Step [1000/1875], Loss: 0.1308\n",
            "Epoch [12/50], Step [1000/1875], Loss: 0.0360\n",
            "Epoch [13/50], Step [1000/1875], Loss: 0.0135\n",
            "Epoch [14/50], Step [1000/1875], Loss: 0.0226\n",
            "Epoch [15/50], Step [1000/1875], Loss: 0.0123\n",
            "Epoch [16/50], Step [1000/1875], Loss: 0.0328\n",
            "Epoch [17/50], Step [1000/1875], Loss: 0.0164\n",
            "Epoch [18/50], Step [1000/1875], Loss: 0.0119\n",
            "Epoch [19/50], Step [1000/1875], Loss: 0.0776\n",
            "Epoch [20/50], Step [1000/1875], Loss: 0.1151\n",
            "Epoch [21/50], Step [1000/1875], Loss: 0.0930\n",
            "Epoch [22/50], Step [1000/1875], Loss: 0.0263\n",
            "Epoch [23/50], Step [1000/1875], Loss: 0.0679\n",
            "Epoch [24/50], Step [1000/1875], Loss: 0.0389\n",
            "Epoch [25/50], Step [1000/1875], Loss: 0.1271\n",
            "Epoch [26/50], Step [1000/1875], Loss: 0.0283\n",
            "Epoch [27/50], Step [1000/1875], Loss: 0.0062\n",
            "Epoch [28/50], Step [1000/1875], Loss: 0.0221\n",
            "Epoch [29/50], Step [1000/1875], Loss: 0.0008\n",
            "Epoch [30/50], Step [1000/1875], Loss: 0.0064\n",
            "Epoch [31/50], Step [1000/1875], Loss: 0.0203\n",
            "Epoch [32/50], Step [1000/1875], Loss: 0.0003\n",
            "Epoch [33/50], Step [1000/1875], Loss: 0.0345\n",
            "Epoch [34/50], Step [1000/1875], Loss: 0.0771\n",
            "Epoch [35/50], Step [1000/1875], Loss: 0.0312\n",
            "Epoch [36/50], Step [1000/1875], Loss: 0.0080\n",
            "Epoch [37/50], Step [1000/1875], Loss: 0.0008\n",
            "Epoch [38/50], Step [1000/1875], Loss: 0.0049\n",
            "Epoch [39/50], Step [1000/1875], Loss: 0.0333\n",
            "Epoch [40/50], Step [1000/1875], Loss: 0.0005\n",
            "Epoch [41/50], Step [1000/1875], Loss: 0.1588\n",
            "Epoch [42/50], Step [1000/1875], Loss: 0.0050\n",
            "Epoch [43/50], Step [1000/1875], Loss: 0.0385\n",
            "Epoch [44/50], Step [1000/1875], Loss: 0.0022\n",
            "Epoch [45/50], Step [1000/1875], Loss: 0.0005\n",
            "Epoch [46/50], Step [1000/1875], Loss: 0.1777\n",
            "Epoch [47/50], Step [1000/1875], Loss: 0.0032\n",
            "Epoch [48/50], Step [1000/1875], Loss: 0.0012\n",
            "Epoch [49/50], Step [1000/1875], Loss: 0.0083\n",
            "Epoch [50/50], Step [1000/1875], Loss: 0.0016\n",
            "Test Accuracy : 98.41 %\n"
          ]
        }
      ]
    },
    {
      "cell_type": "code",
      "source": [
        "num_epochs = 50\n",
        "\n",
        "\n",
        "total_step = len(train_loader)\n",
        "for epoch in range(num_epochs):\n",
        "    for i, (images, labels) in enumerate(train_loader):\n",
        "        images = images.cuda()\n",
        "        labels = labels.cuda()\n",
        "\n",
        "        # Forward pass\n",
        "        outputs = cnn_model(images)\n",
        "        loss = cnn_criterion(outputs, labels)\n",
        "\n",
        "        # Backward and optimize\n",
        "        cnn_optimizer.zero_grad()\n",
        "        loss.backward()\n",
        "        cnn_optimizer.step()\n",
        "\n",
        "        if (i+1) % 1000 == 0:\n",
        "            print ('Epoch [{}/{}], Step [{}/{}], Loss: {:.4f}'\n",
        "                   .format(epoch+1, num_epochs, i+1, total_step, loss.item()))\n",
        "\n",
        "# Test the model\n",
        "cnn_model.eval()\n",
        "with torch.no_grad():\n",
        "    correct = 0\n",
        "    total = 0\n",
        "    for images, labels in test_loader:\n",
        "        images = images.cuda()\n",
        "        labels = labels.cuda()\n",
        "        outputs = cnn_model(images)\n",
        "        _, predicted = torch.max(outputs.data, 1)\n",
        "        total += labels.size(0)\n",
        "        correct += (predicted == labels).sum().item()\n",
        "\n",
        "    print('Test Accuracy : {} %'.format(100 * correct / total))\n",
        "\n",
        "# Save the model checkpoint\n",
        "torch.save(cnn_model.state_dict(), 'cnn_model.ckpt')"
      ],
      "metadata": {
        "colab": {
          "base_uri": "https://localhost:8080/"
        },
        "id": "_bT8x9hjbOUc",
        "outputId": "c27f1408-a770-4775-e64c-1abc3adb91af"
      },
      "execution_count": null,
      "outputs": [
        {
          "output_type": "stream",
          "name": "stdout",
          "text": [
            "Epoch [1/50], Step [1000/1875], Loss: 0.3204\n",
            "Epoch [2/50], Step [1000/1875], Loss: 0.0483\n",
            "Epoch [3/50], Step [1000/1875], Loss: 0.1345\n",
            "Epoch [4/50], Step [1000/1875], Loss: 0.0598\n",
            "Epoch [5/50], Step [1000/1875], Loss: 0.1446\n",
            "Epoch [6/50], Step [1000/1875], Loss: 0.0164\n",
            "Epoch [7/50], Step [1000/1875], Loss: 0.0182\n",
            "Epoch [8/50], Step [1000/1875], Loss: 0.0116\n",
            "Epoch [9/50], Step [1000/1875], Loss: 0.0298\n",
            "Epoch [10/50], Step [1000/1875], Loss: 0.0002\n",
            "Epoch [11/50], Step [1000/1875], Loss: 0.0316\n",
            "Epoch [12/50], Step [1000/1875], Loss: 0.0107\n",
            "Epoch [13/50], Step [1000/1875], Loss: 0.0006\n",
            "Epoch [14/50], Step [1000/1875], Loss: 0.0109\n",
            "Epoch [15/50], Step [1000/1875], Loss: 0.0057\n",
            "Epoch [16/50], Step [1000/1875], Loss: 0.0147\n",
            "Epoch [17/50], Step [1000/1875], Loss: 0.0016\n",
            "Epoch [18/50], Step [1000/1875], Loss: 0.0002\n",
            "Epoch [19/50], Step [1000/1875], Loss: 0.0002\n",
            "Epoch [20/50], Step [1000/1875], Loss: 0.0008\n",
            "Epoch [21/50], Step [1000/1875], Loss: 0.0005\n",
            "Epoch [22/50], Step [1000/1875], Loss: 0.0001\n",
            "Epoch [23/50], Step [1000/1875], Loss: 0.0003\n",
            "Epoch [24/50], Step [1000/1875], Loss: 0.0000\n",
            "Epoch [25/50], Step [1000/1875], Loss: 0.0005\n",
            "Epoch [26/50], Step [1000/1875], Loss: 0.0002\n",
            "Epoch [27/50], Step [1000/1875], Loss: 0.0015\n",
            "Epoch [28/50], Step [1000/1875], Loss: 0.0004\n",
            "Epoch [29/50], Step [1000/1875], Loss: 0.0000\n",
            "Epoch [30/50], Step [1000/1875], Loss: 0.0046\n",
            "Epoch [31/50], Step [1000/1875], Loss: 0.0000\n",
            "Epoch [32/50], Step [1000/1875], Loss: 0.0009\n",
            "Epoch [33/50], Step [1000/1875], Loss: 0.0000\n",
            "Epoch [34/50], Step [1000/1875], Loss: 0.0004\n",
            "Epoch [35/50], Step [1000/1875], Loss: 0.0001\n",
            "Epoch [36/50], Step [1000/1875], Loss: 0.0000\n",
            "Epoch [37/50], Step [1000/1875], Loss: 0.0000\n",
            "Epoch [38/50], Step [1000/1875], Loss: 0.0000\n",
            "Epoch [39/50], Step [1000/1875], Loss: 0.0000\n",
            "Epoch [40/50], Step [1000/1875], Loss: 0.0006\n",
            "Epoch [41/50], Step [1000/1875], Loss: 0.0000\n",
            "Epoch [42/50], Step [1000/1875], Loss: 0.0000\n",
            "Epoch [43/50], Step [1000/1875], Loss: 0.0040\n",
            "Epoch [44/50], Step [1000/1875], Loss: 0.0000\n",
            "Epoch [45/50], Step [1000/1875], Loss: 0.0009\n",
            "Epoch [46/50], Step [1000/1875], Loss: 0.0002\n",
            "Epoch [47/50], Step [1000/1875], Loss: 0.0001\n",
            "Epoch [48/50], Step [1000/1875], Loss: 0.0000\n",
            "Epoch [49/50], Step [1000/1875], Loss: 0.0001\n",
            "Epoch [50/50], Step [1000/1875], Loss: 0.0000\n",
            "Test Accuracy : 99.12 %\n"
          ]
        }
      ]
    },
    {
      "cell_type": "code",
      "source": [
        "from google.colab import drive\n",
        "drive.mount('/content/drive')"
      ],
      "metadata": {
        "id": "NkGzKhA5bOOQ",
        "colab": {
          "base_uri": "https://localhost:8080/"
        },
        "outputId": "615117a5-1308-48a3-bd33-844912c34055"
      },
      "execution_count": null,
      "outputs": [
        {
          "output_type": "stream",
          "name": "stdout",
          "text": [
            "Drive already mounted at /content/drive; to attempt to forcibly remount, call drive.mount(\"/content/drive\", force_remount=True).\n"
          ]
        }
      ]
    },
    {
      "cell_type": "code",
      "source": [
        "INPUT_DIR='/content/drive/MyDrive/Colab Notebooks/MNIST_test'"
      ],
      "metadata": {
        "id": "SJFcl-N0bOHJ"
      },
      "execution_count": null,
      "outputs": []
    },
    {
      "cell_type": "code",
      "source": [
        "import os\n",
        "from PIL import Image\n",
        "import matplotlib.pyplot as plt"
      ],
      "metadata": {
        "id": "AD685rhFbN_Y"
      },
      "execution_count": null,
      "outputs": []
    },
    {
      "cell_type": "code",
      "source": [
        "correct = 0\n",
        "total = 0\n",
        "\n",
        "for i in range(10):\n",
        "  for j in range(5):\n",
        "    # print(str(i)+str(j))\n",
        "    name = str(i)+str(j)+'.png'\n",
        "\n",
        "    image = Image.open(os.path.join(INPUT_DIR, name)).convert('L')  # Convert to grayscale\n",
        "    image = image.resize((28, 28))  # Resize to match model input size\n",
        "    image = transforms.ToTensor()(image)  # Convert to tensor\n",
        "    image = (1-image) # black/ white inverted image\n",
        "    image = image.unsqueeze(0)  # Add a batch dimension\n",
        "\n",
        "    with torch.no_grad():\n",
        "      check = cnn_model(image.cuda())\n",
        "      # print(\"Pred : \", torch.argmax(check, 1).item())\n",
        "      # plt.imshow(image.view(28,28), cmap = 'Greys', interpolation = 'nearest')\n",
        "      # plt.show()\n",
        "      _, predicted = torch.max(check.data, 1)\n",
        "      correct += (predicted == torch.tensor(i, dtype=torch.int8)).sum().item()\n",
        "\n",
        "      # print(torch.tensor(i, dtype=torch.int8))\n",
        "print('Test Accuracy : {} %'.format(100 * correct / 50))"
      ],
      "metadata": {
        "colab": {
          "base_uri": "https://localhost:8080/"
        },
        "id": "pfF7QqPcflb6",
        "outputId": "3d046cc3-5ebe-4f92-af5e-43c9ca9196c4"
      },
      "execution_count": null,
      "outputs": [
        {
          "output_type": "stream",
          "name": "stdout",
          "text": [
            "Test Accuracy : 80.0 %\n"
          ]
        }
      ]
    },
    {
      "cell_type": "code",
      "source": [
        "correct = 0\n",
        "total = 0\n",
        "\n",
        "for i in range(10):\n",
        "  for j in range(5):\n",
        "    # print(str(i)+str(j))\n",
        "    name = str(i)+str(j)+'.png'\n",
        "\n",
        "    image = Image.open(os.path.join(INPUT_DIR, name)).convert('L')  # Convert to grayscale\n",
        "    image = image.resize((28, 28))  # Resize to match model input size\n",
        "    image = transforms.ToTensor()(image)  # Convert to tensor\n",
        "    image = (1-image)  # black/ white inverted image\n",
        "    image = image.unsqueeze(0)  # Add a batch dimension\n",
        "\n",
        "    with torch.no_grad():\n",
        "      check = mlp_model(image.cuda())\n",
        "      # print(\"Pred : \", torch.argmax(check, 1).item())\n",
        "      # plt.imshow(image.view(28,28), cmap = 'Greys', interpolation = 'nearest')\n",
        "      # plt.show()\n",
        "      _, predicted = torch.max(check.data, 1)\n",
        "      correct += (predicted == torch.tensor(i, dtype=torch.int8)).sum().item()\n",
        "\n",
        "      # print(torch.tensor(i, dtype=torch.int8))\n",
        "print('Test Accuracy : {} %'.format(100 * correct / 50))"
      ],
      "metadata": {
        "colab": {
          "base_uri": "https://localhost:8080/"
        },
        "id": "0Mk_Q8D2o0xc",
        "outputId": "a7fc2d09-ded1-4f9b-cc3e-5baec108f6f2"
      },
      "execution_count": null,
      "outputs": [
        {
          "output_type": "stream",
          "name": "stdout",
          "text": [
            "Test Accuracy : 62.0 %\n"
          ]
        }
      ]
    },
    {
      "cell_type": "code",
      "source": [
        "\n",
        "# Load and preprocess the image\n",
        "image = Image.open(os.path.join(INPUT_DIR, '41.png')).convert('L')  # Convert to grayscale\n",
        "image = image.resize((28, 28))  # Resize to match model input size\n",
        "image = transforms.ToTensor()(image)  # Convert to tensor\n",
        "image = 1-image  # black/ white inverted image\n",
        "image = image.unsqueeze(0)  # Add a batch dimension"
      ],
      "metadata": {
        "id": "c0e3iVHYbN33"
      },
      "execution_count": null,
      "outputs": []
    },
    {
      "cell_type": "code",
      "source": [
        "with torch.no_grad():\n",
        "  check = cnn_model(image.cuda())\n",
        "  print(\"Pred : \", torch.argmax(check, 1).item())\n",
        "\n",
        "  plt.imshow(image.view(28,28), cmap = 'Greys', interpolation = 'nearest')\n",
        "  plt.show()"
      ],
      "metadata": {
        "id": "BtPLTXi_PO0r",
        "colab": {
          "base_uri": "https://localhost:8080/",
          "height": 448
        },
        "outputId": "9bcb7bbf-c7b4-4010-993b-7d6511fb6c46"
      },
      "execution_count": null,
      "outputs": [
        {
          "output_type": "stream",
          "name": "stdout",
          "text": [
            "Pred :  4\n"
          ]
        },
        {
          "output_type": "display_data",
          "data": {
            "text/plain": [
              "<Figure size 640x480 with 1 Axes>"
            ],
            "image/png": "[encoded data removed]"
          },
          "metadata": {}
        }
      ]
    },
    {
      "cell_type": "code",
      "source": [
        "with torch.no_grad():\n",
        "  check = mlp_model(image.cuda())\n",
        "  print(\"Pred : \", torch.argmax(check, 1).item())\n",
        "\n",
        "  plt.imshow(image.view(28,28), cmap = 'Greys', interpolation = 'nearest')\n",
        "  plt.show()"
      ],
      "metadata": {
        "colab": {
          "base_uri": "https://localhost:8080/",
          "height": 448
        },
        "id": "6-UO65Ked-Ao",
        "outputId": "b3c4d4de-0e18-40cc-f127-408fd92aa2ad"
      },
      "execution_count": null,
      "outputs": [
        {
          "output_type": "stream",
          "name": "stdout",
          "text": [
            "Pred :  4\n"
          ]
        },
        {
          "output_type": "display_data",
          "data": {
            "text/plain": [
              "<Figure size 640x480 with 1 Axes>"
            ],
            "image/png": "[encoded data removed]"
          },
          "metadata": {}
        }
      ]
    },
    {
      "cell_type": "code",
      "source": [],
      "metadata": {
        "id": "ECFnHSvCPO3f"
      },
      "execution_count": null,
      "outputs": []
    },
    {
      "cell_type": "code",
      "source": [],
      "metadata": {
        "id": "BHbTN-9ePO6f"
      },
      "execution_count": null,
      "outputs": []
    },
    {
      "cell_type": "code",
      "source": [],
      "metadata": {
        "id": "nBBE91amPQ-x"
      },
      "execution_count": null,
      "outputs": []
    },
    {
      "cell_type": "code",
      "source": [],
      "metadata": {
        "id": "m3jIOxS0PQ9K"
      },
      "execution_count": null,
      "outputs": []
    },
    {
      "cell_type": "code",
      "source": [],
      "metadata": {
        "id": "x9ModH6sPQ5s"
      },
      "execution_count": null,
      "outputs": []
    },
    {
      "cell_type": "code",
      "source": [],
      "metadata": {
        "id": "DrvxAHt9PQ3v"
      },
      "execution_count": null,
      "outputs": []
    },
    {
      "cell_type": "code",
      "source": [],
      "metadata": {
        "id": "X_OtOzhePQ0T"
      },
      "execution_count": null,
      "outputs": []
    },
    {
      "cell_type": "code",
      "source": [],
      "metadata": {
        "id": "MUu1NCVsPQxP"
      },
      "execution_count": null,
      "outputs": []
    },
    {
      "cell_type": "code",
      "source": [],
      "metadata": {
        "id": "otrm0Ut6PQu3"
      },
      "execution_count": null,
      "outputs": []
    },
    {
      "cell_type": "code",
      "source": [],
      "metadata": {
        "id": "xRLPFDz1PQsv"
      },
      "execution_count": null,
      "outputs": []
    }
  ]
}